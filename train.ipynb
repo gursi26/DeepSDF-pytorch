{
 "cells": [
  {
   "cell_type": "code",
   "execution_count": 1,
   "metadata": {},
   "outputs": [],
   "source": [
    "import torch\n",
    "from tqdm import tqdm\n",
    "from torch import nn, optim"
   ]
  },
  {
   "cell_type": "code",
   "execution_count": 2,
   "metadata": {},
   "outputs": [],
   "source": [
    "Z_DIM = 256"
   ]
  },
  {
   "cell_type": "code",
   "execution_count": 7,
   "metadata": {},
   "outputs": [
    {
     "name": "stdout",
     "output_type": "stream",
     "text": [
      "torch.Size([32, 1000])\n"
     ]
    }
   ],
   "source": [
    "class DeepSDF(nn.Module):\n",
    "\n",
    "    def __init__(self, input_dim, layer_size = 512, dropout_p = 0.2):\n",
    "        super(DeepSDF, self).__init__()\n",
    "        self.dropout_p = dropout_p\n",
    "        self.input_layer = self.create_layer_block(input_dim, layer_size)\n",
    "        self.layer2 = self.create_layer_block(layer_size, layer_size)\n",
    "        self.layer3 = self.create_layer_block(layer_size, layer_size)\n",
    "        self.layer4 = self.create_layer_block(layer_size, layer_size - input_dim)\n",
    "        self.layer5 = self.create_layer_block(layer_size, layer_size)\n",
    "        self.layer6 = self.create_layer_block(layer_size, layer_size)\n",
    "        self.layer7 = self.create_layer_block(layer_size, layer_size)\n",
    "        self.layer8 = self.create_layer_block(layer_size, 1)\n",
    "\n",
    "    def create_layer_block(self, input_size, output_size):\n",
    "        return nn.Sequential(\n",
    "            nn.Linear(input_size, output_size),\n",
    "            nn.ReLU(),\n",
    "            nn.Dropout(self.dropout_p)\n",
    "        )\n",
    "\n",
    "    def forward(self, latent_vec, coords):\n",
    "        \"\"\"\n",
    "        latent_vec has shape [batch_size, z_dim]\n",
    "        coords has shape [batch_size, num_coords, 3]\n",
    "        \"\"\"\n",
    "        # latent_vec now has shape [batch_size, num_coords, z_dim], repeated on the middle axis\n",
    "        latent_vec = latent_vec.unsqueeze(1).repeat(1, coords.shape[1], 1)\n",
    "\n",
    "        x = torch.cat([latent_vec, coords], dim = -1)\n",
    "        skip_x = x\n",
    "\n",
    "        x = self.input_layer(x)\n",
    "        x = self.layer2(x)\n",
    "        x = self.layer3(x)\n",
    "        x = self.layer4(x)\n",
    "        x = self.layer5(torch.cat([x, skip_x], dim = -1)) # skip connection\n",
    "        x = self.layer6(x)\n",
    "        x = self.layer7(x)\n",
    "        x = self.layer8(x)\n",
    "\n",
    "        # return has shape [batch_size, num_coords], where each element is the SDF\n",
    "        # at the given input coordinate\n",
    "        return x.squeeze(-1)\n",
    "\n",
    "test_model = DeepSDF(Z_DIM + 3)\n",
    "random_latent = torch.randn(32, Z_DIM)\n",
    "random_coords = torch.randn(32, 1000, 3)\n",
    "output = test_model(random_latent, random_coords)\n",
    "print(output.shape)"
   ]
  },
  {
   "cell_type": "code",
   "execution_count": null,
   "metadata": {},
   "outputs": [],
   "source": []
  }
 ],
 "metadata": {
  "kernelspec": {
   "display_name": "ml",
   "language": "python",
   "name": "python3"
  },
  "language_info": {
   "codemirror_mode": {
    "name": "ipython",
    "version": 3
   },
   "file_extension": ".py",
   "mimetype": "text/x-python",
   "name": "python",
   "nbconvert_exporter": "python",
   "pygments_lexer": "ipython3",
   "version": "3.11.7"
  }
 },
 "nbformat": 4,
 "nbformat_minor": 2
}
